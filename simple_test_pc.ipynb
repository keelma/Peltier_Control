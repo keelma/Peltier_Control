{
 "cells": [
  {
   "cell_type": "code",
   "execution_count": 1,
   "metadata": {},
   "outputs": [],
   "source": [
    "import serial\n",
    "import time\n"
   ]
  },
  {
   "cell_type": "code",
   "execution_count": 2,
   "metadata": {},
   "outputs": [],
   "source": [
    "def ascii_communication_protocol(port: str, receiver_id: str, command: str):\n",
    "    ser = serial.Serial(port, baudrate = 9600, timeout=1)\n",
    "\n",
    "    # Flush input to clear any existing data\n",
    "    ser.reset_input_buffer()\n",
    "    formatted_command = f\"{receiver_id} {command}\"\n",
    "    print(f\"Sending command: {formatted_command.strip()} to {port}\")\n",
    "\n",
    "    ser.write(formatted_command.encode('ascii'))\n",
    "\n",
    "    time.sleep(1)\n",
    "\n",
    "    response = ser.read(ser.in_waiting).decode('ascii').strip()\n",
    "\n",
    "    ser.close()\n",
    "    print(f\"Response from TEC controller: {response}\")\n",
    "    return response\n",
    "    \n",
    "def tec_initalisation(receiver_id, port): # Initalises the TEC-Module by eg. disabling PID Control an\n",
    "    \"\"\"\n",
    "    Sends TEC Initalisation ASCII commands formatted with the given receiver ID.\n",
    "    Each command is sent using the predefined ascii_communication function.\n",
    "\n",
    "    Parameters:\n",
    "        receiver_id (int): The receiver ID for the TEC-Controller.\n",
    "        port (str): The communication port to use.\n",
    "    \"\"\"\n",
    "    commands = [\n",
    "        \"SDI\\n\",  # Disable TEC-Controller\n",
    "        \"SPF 000\\n\",  # Set proportional factor to 0\n",
    "        \"SIF 000\\n\",  # Set integral factor to 0\n",
    "        \"SDF 000\\n\",  # Set differential factor to 0\n",
    "        \"SHC 1600\\n\",  # Set heating current limit to 10.00 A\n",
    "        \"SCC 0\\n\",  # Set cooling current limit to 10.00 A\n",
    "        \"SMA 6000\\n\",  # Set maximum temperature to 60.00°C\n",
    "        \"SMI 0\\n\",  # Set minimum temperature to 0.00°C\n",
    "        \"SAE 0\\n\",  # Disable automatic enabling\n",
    "        \"SUS 1\\n\",  # Use temperature sensor 1 for regulation\n",
    "        \"SBM 0,0\\n\",  # WE DONT KNOW: Set auxiliary I/O 1 to inactive\n",
    "        \"SBM 1,0\\n\",  # WE DONT KNOW: Set auxiliary I/O 2 to inactive\n",
    "        \"SBM 2,0\\n\",  # WE DONT KNOW: Set auxiliary I/O 3 to inactive\n",
    "        \"SBM 3,0\\n\",  # WE DONT KNOW: Set lower limit temperature for Aux 1 to inactive\n",
    "        \"SBM 4,0\\n\",  # WE DONT KNOW: Set upper limit temperature for Aux 1 to inactive\n",
    "        \"SBM 5,0\\n\",  # WE DONT KNOW: Set lower limit temperature for Aux 2 to inactive\n",
    "        \"SBM 6,0\\n\",  # WE DONT KNOW: Set upper limit temperature for Aux 2 to inactive\n",
    "        \"SBM 7,0\\n\",  # WE DONT KNOW: Set lower limit temperature for Aux 3 to inactive\n",
    "        \"SBE 0\\n\",  # WE DONT KNOW: Disable buzzer\n",
    "        \"STS 1\\n\",  # Set temperature setpoint slope to 0.01°C/s\n",
    "        \"SAS 0\\n\",  # Disable cyclic sending of measurement values\n",
    "        \"SEI 0\\n\",  # Disable TEC-Controller control via external input\n",
    "        \"SFS 0\\n\",  # Set fan control sensor to inactive\n",
    "        \"SIM 0\\n\",  # Set interface mode to ASCII\n",
    "        \"SM1 0\\n\",  # Disable shutdown temperature for sensor 1\n",
    "        \"SM2 0\\n\",  # Disable shutdown temperature for sensor 2\n",
    "        \"SM3 6500\\n\",  # Set shutdown temperature for sensor 3 to 65.00°C\n",
    "        \"STI 0\\n\",  # Disable external temperature setpoint input\n",
    "        \"STD 0\\n\",  # Disable maximum temperature delta between sensor 1 and 2\n",
    "        \"SC0 0\\n\",  # WE DONT KNOW: Disable monitoring of sensor 1\n",
    "        \"SEN\\n\"  # Enable TEC-Controller\n",
    "    ]\n",
    "    \n",
    "    for command in commands:\n",
    "        ascii_communication_protocol(port,receiver_id,command)\n",
    "\n",
    "       \n"
   ]
  },
  {
   "cell_type": "code",
   "execution_count": 13,
   "metadata": {},
   "outputs": [],
   "source": [
    "port_10 = \"COM6\"  # Change this based on your setup\n",
    "port_11 = \"COM3\" \n",
    "command_spannung = \"GV1\\n\"\n",
    "command_strom = \"GCU\\n\"\n",
    "\n",
    "#command = \"SCU 0\\n\"\n",
    "receiver_id_11 = \"11\"\n",
    "receiver_id_10 = \"10\"\n",
    "\n"
   ]
  },
  {
   "cell_type": "code",
   "execution_count": 14,
   "metadata": {},
   "outputs": [
    {
     "name": "stdout",
     "output_type": "stream",
     "text": [
      "Sending command: 10 SDI to COM6\n",
      "Response from TEC controller: 10 STATUS=0\n",
      "Sending command: 10 SPF 000 to COM6\n",
      "Response from TEC controller: 10 P_FACTOR=0.00\n",
      "Sending command: 10 SIF 000 to COM6\n",
      "Response from TEC controller: 10 I_FACTOR=0.00\n",
      "Sending command: 10 SDF 000 to COM6\n",
      "Response from TEC controller: 10 D_FACTOR=0.00\n",
      "Sending command: 10 SHC 1600 to COM6\n",
      "Response from TEC controller: 10 HEAT_C_LIMIT=16.00 A\n",
      "Sending command: 10 SCC 0 to COM6\n",
      "Response from TEC controller: 10 COOL_C_LIMIT=0.00 A\n",
      "Sending command: 10 SMA 6000 to COM6\n",
      "Response from TEC controller: 10 TEMP_MAX=60.00 C\n",
      "Sending command: 10 SMI 0 to COM6\n",
      "Response from TEC controller: 10 TEMP_MIN=0.00 C\n",
      "Sending command: 10 SAE 0 to COM6\n",
      "Response from TEC controller: 10 AUTOENAB=0\n",
      "Sending command: 10 SUS 1 to COM6\n",
      "Response from TEC controller: 10 USE_SENSOR=1\n",
      "Sending command: 10 SBM 0,0 to COM6\n",
      "Response from TEC controller: 10 SBM=0,0\n",
      "Sending command: 10 SBM 1,0 to COM6\n",
      "Response from TEC controller: 10 SBM=1,0\n",
      "Sending command: 10 SBM 2,0 to COM6\n",
      "Response from TEC controller: 10 SBM=2,0\n",
      "Sending command: 10 SBM 3,0 to COM6\n",
      "Response from TEC controller: 10 SBM=3,0\n",
      "Sending command: 10 SBM 4,0 to COM6\n",
      "Response from TEC controller: 10 SBM=4,0\n",
      "Sending command: 10 SBM 5,0 to COM6\n",
      "Response from TEC controller: 10 SBM=5,0\n",
      "Sending command: 10 SBM 6,0 to COM6\n",
      "Response from TEC controller: 10 SBM=6,0\n",
      "Sending command: 10 SBM 7,0 to COM6\n",
      "Response from TEC controller: 10 SBM=7,0\n",
      "Sending command: 10 SBE 0 to COM6\n",
      "Response from TEC controller: 10 BUZZER_ENABLE=0\n",
      "Sending command: 10 STS 1 to COM6\n",
      "Response from TEC controller: 10 TEMP_SLOPE=0.01 C/s\n",
      "Sending command: 10 SAS 0 to COM6\n",
      "Response from TEC controller: 10 AUTOSEND=0\n",
      "Sending command: 10 SEI 0 to COM6\n",
      "Response from TEC controller: 10 ENABLE_INPUT=0\n",
      "Sending command: 10 SFS 0 to COM6\n",
      "Response from TEC controller: 10 FAN_SENS=0\n",
      "Sending command: 10 SIM 0 to COM6\n",
      "Response from TEC controller: 10 IF_MODE=0\n",
      "Sending command: 10 SM1 0 to COM6\n",
      "Response from TEC controller: 10 TEMP_1_MAX=0.00 C\n",
      "Sending command: 10 SM2 0 to COM6\n",
      "Response from TEC controller: 10 TEMP_2_MAX=0.00 C\n",
      "Sending command: 10 SM3 6500 to COM6\n",
      "Response from TEC controller: 10 TEMP_3_MAX=65.00 C\n",
      "Sending command: 10 STI 0 to COM6\n",
      "Response from TEC controller: 10 TEMP_INPUT=0\n",
      "Sending command: 10 STD 0 to COM6\n",
      "Response from TEC controller: 10 TEMP_DELTA=0.00 C\n",
      "Sending command: 10 SC0 0 to COM6\n",
      "Response from TEC controller: 10 CHECK_SENS_1=0\n",
      "Sending command: 10 SEN to COM6\n",
      "Response from TEC controller: 10 STATUS=1\n"
     ]
    }
   ],
   "source": [
    "\n",
    "tec_initalisation(receiver_id_11,port_11)\n"
   ]
  },
  {
   "cell_type": "code",
   "execution_count": 19,
   "metadata": {},
   "outputs": [
    {
     "name": "stdout",
     "output_type": "stream",
     "text": [
      "Sending command: 10 SHC 100 to COM6\n",
      "Response from TEC controller: 10 HEAT_C_LIMIT=1.00 A\n",
      "Sending command: 10 SCC 100 to COM6\n",
      "Response from TEC controller: 10 COOL_C_LIMIT=1.00 A\n",
      "Sending command: 11 SHC 100 to COM3\n",
      "Response from TEC controller: 11 HEAT_C_LIMIT=1.00 A\n",
      "Sending command: 11 SCC 100 to COM3\n",
      "Response from TEC controller: 11 COOL_C_LIMIT=1.00 A\n"
     ]
    },
    {
     "data": {
      "text/plain": [
       "'11 COOL_C_LIMIT=1.00 A'"
      ]
     },
     "execution_count": 19,
     "metadata": {},
     "output_type": "execute_result"
    }
   ],
   "source": [
    "ascii_communication_protocol(port_10,receiver_id_10, \"SHC 100\\n\")\n",
    "ascii_communication_protocol(port_10,receiver_id_10, \"SCC 100\\n\")\n",
    "\n",
    "\n",
    "ascii_communication_protocol(port_11,receiver_id_11, \"SHC 100\\n\")\n",
    "ascii_communication_protocol(port_11,receiver_id_11, \"SCC 100\\n\")"
   ]
  },
  {
   "cell_type": "code",
   "execution_count": 27,
   "metadata": {},
   "outputs": [
    {
     "name": "stdout",
     "output_type": "stream",
     "text": [
      "Sending command: 10 SCU 20 to COM6\n",
      "Response from TEC controller: 10 CU=0.20\n",
      "Sending command: 11 SCU 20 to COM3\n",
      "Response from TEC controller: 11 CU=0.20\n",
      "Sending command: 10 GPW to COM6\n",
      "Response from TEC controller: 10 POWER=0 W\n",
      "Sending command: 10 GV1 to COM6\n",
      "Response from TEC controller: 10 U_HEAT=22.88 V\n",
      "Sending command: 11 GV1 to COM3\n",
      "Response from TEC controller: 11 U_HEAT=22.89 V\n",
      "Sending command: 10 GCU to COM6\n",
      "Response from TEC controller: 10 CURRENT=0.20 A\n",
      "Sending command: 11 GCU to COM3\n",
      "Response from TEC controller: 11 CURRENT=0.20 A\n",
      "Sending command: 10 SCU 0 to COM6\n",
      "Response from TEC controller: 10 CU=0.00\n",
      "Sending command: 11 SCU 0 to COM3\n",
      "Response from TEC controller: 11 CU=0.00\n"
     ]
    },
    {
     "data": {
      "text/plain": [
       "'11 CU=0.00'"
      ]
     },
     "execution_count": 27,
     "metadata": {},
     "output_type": "execute_result"
    }
   ],
   "source": [
    "command_10 = \"SCU 20\\n\"\n",
    "command_11 = \"SCU 20\\n\"\n",
    "\n",
    "ascii_communication_protocol(port_10,receiver_id_10, command_10)\n",
    "ascii_communication_protocol(port_11,receiver_id_11, command_11)\n",
    "time.sleep(1)\n",
    "ascii_communication_protocol(port_10,receiver_id_10, \"GPW\\n\")\n",
    "ascii_communication_protocol(port_10,receiver_id_10, command_spannung)\n",
    "ascii_communication_protocol(port_11,receiver_id_11, command_spannung)\n",
    "time.sleep(1)\n",
    "ascii_communication_protocol(port_10,receiver_id_10, command_strom)\n",
    "ascii_communication_protocol(port_11,receiver_id_11, command_strom)\n",
    "time.sleep(5)\n",
    "ascii_communication_protocol(port_10,receiver_id_10, \"SCU 0\\n\")\n",
    "ascii_communication_protocol(port_11,receiver_id_11, \"SCU 0\\n\")\n",
    "\n",
    "\n"
   ]
  }
 ],
 "metadata": {
  "kernelspec": {
   "display_name": "tec_pelti",
   "language": "python",
   "name": "python3"
  },
  "language_info": {
   "codemirror_mode": {
    "name": "ipython",
    "version": 3
   },
   "file_extension": ".py",
   "mimetype": "text/x-python",
   "name": "python",
   "nbconvert_exporter": "python",
   "pygments_lexer": "ipython3",
   "version": "3.12.9"
  }
 },
 "nbformat": 4,
 "nbformat_minor": 2
}
